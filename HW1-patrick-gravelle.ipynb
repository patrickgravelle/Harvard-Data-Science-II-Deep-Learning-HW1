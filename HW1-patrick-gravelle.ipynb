{
 "cells": [
  {
   "cell_type": "markdown",
   "metadata": {},
   "source": [
    "## Homework #1\n",
    "\n",
    "Your name: Patrick Gravelle\n",
    "\n",
    "### Question 1\n",
    "You will be performing one iteration of the forward pass and backpropagation calculations for a small network using Python. Here we will focus on the calculations for one training example, though in reality your data sets will be much larger and require matrix computation. You will also calculate the associated loss.\n",
    "\n",
    "Let $X_1 = 2$ and $X_2 = -1$ be the feature inputs and initialize the weights to be as shown in the figure below. This is a neural network with a single hidden layer consisting of three nodes. The blue numbers within each node represent the values for the bias terms and the black numbers along the edges represent the weights. The hidden layer outputs a single node, from which your task is binary classification. The label for this particular training example outcome is $y = 1$. "
   ]
  },
  {
   "cell_type": "markdown",
   "metadata": {},
   "source": [
    "<img src=\"simple_nn.png\" width=\"500\">"
   ]
  },
  {
   "cell_type": "markdown",
   "metadata": {},
   "source": [
    "Implement a single forward pass of the network. You do not need to implement the network in keras and should instead use numpy operations (either scalar or matrix). Please use the variable names and print statements provided in the code chunks to display results for the TAs. "
   ]
  },
  {
   "cell_type": "code",
   "execution_count": 1,
   "metadata": {},
   "outputs": [
    {
     "name": "stderr",
     "output_type": "stream",
     "text": [
      "Using TensorFlow backend.\n"
     ]
    },
    {
     "name": "stdout",
     "output_type": "stream",
     "text": [
      "The values for the hidden layer are: [[-0.9   0.    0.06]]\n",
      "The value for the output layer is: [[1.628]]\n",
      "The predicted probability is: [[0.83589547]]\n",
      "The prediction is: [[1.]]\n"
     ]
    }
   ],
   "source": [
    "# forward pass and prediction\n",
    "import numpy as np\n",
    "import keras\n",
    "x = np.array([[2,-1,1]])\n",
    "w_hidden = np.matrix([[1,0.2,-0.6],[1.1,0,-0.3],[-1.8,-0.4,0.96]])\n",
    "w_out = np.matrix([[.5],[.1],[1.3]])\n",
    "b_out = 2\n",
    "hidden = np.matmul(x,w_hidden)\n",
    "output = hidden*w_out + b_out\n",
    "y_hat = 1/(1+np.exp(-output))\n",
    "prediction = np.round(y_hat)\n",
    "print('The values for the hidden layer are:', hidden)\n",
    "print('The value for the output layer is:', output)\n",
    "print('The predicted probability is:', y_hat)\n",
    "print('The prediction is:', prediction)"
   ]
  },
  {
   "cell_type": "markdown",
   "metadata": {},
   "source": [
    "Calculate the loss for the training example making sure to select the appropriate loss function."
   ]
  },
  {
   "cell_type": "code",
   "execution_count": 2,
   "metadata": {},
   "outputs": [
    {
     "name": "stdout",
     "output_type": "stream",
     "text": [
      "The loss is: [[0.1792517]]\n",
      "-0.9000000000000001\n"
     ]
    }
   ],
   "source": [
    "# Loss\n",
    "y_i = 1\n",
    "loss_i = -y_i*np.log(y_hat)-(1-y_i)*np.log(1-y_hat)\n",
    "print('The loss is:',loss_i)"
   ]
  },
  {
   "cell_type": "markdown",
   "metadata": {},
   "source": [
    "Implement a single backward pass of the network. Again use numpy and report the values using the print statements provided. Please interpret these values. In other words, what are the values you just calculated used for? "
   ]
  },
  {
   "cell_type": "code",
   "execution_count": 3,
   "metadata": {},
   "outputs": [
    {
     "name": "stdout",
     "output_type": "stream",
     "text": [
      "The gradients of the loss wrt to the hidden weights are: [[ 0.14769407  0.         -0.00984627]]\n",
      "The gradient of the loss wrt to the hidden bias is: [[-0.16410453]]\n",
      "The gradients of the loss wrt to the input weights going to hidden node 1 are: [[-0.08205226 -0.16410453  0.08205226]]\n",
      "The gradients of the loss wrt to the input weights going to hidden node 2 are: [[-0.01641045 -0.03282091  0.01641045]]\n",
      "The gradients of the loss wrt to the input weights going to hidden node 3 are: [[-0.21333588 -0.42667177  0.21333588]]\n"
     ]
    }
   ],
   "source": [
    "# Backprop\n",
    "# gradient for loss\n",
    "dl_dy = (y_hat-y_i)/(y_hat-y_hat**2)\n",
    "dy_dout = y_hat*(1-y_hat)\n",
    "dout_dw_h = hidden\n",
    "dout_db_h = 1\n",
    "x_hid = np.array([[1,2,-1]])\n",
    "dout_dh = np.transpose(w_out)\n",
    "\n",
    "dl_dw_h = dl_dy*dy_dout*dout_dw_h\n",
    "dl_db_h = dl_dy*dy_dout*dout_db_h\n",
    "dl_dw_1 = dl_dy*dy_dout*dout_dh[0,0]*x_hid\n",
    "dl_dw_2 = dl_dy*dy_dout*dout_dh[0,1]*x_hid\n",
    "dl_dw_3 = dl_dy*dy_dout*dout_dh[0,2]*x_hid\n",
    "print('The gradients of the loss wrt to the hidden weights are:', dl_dw_h)\n",
    "print('The gradient of the loss wrt to the hidden bias is:', dl_db_h)\n",
    "print('The gradients of the loss wrt to the input weights going to hidden node 1 are:', dl_dw_1)\n",
    "print('The gradients of the loss wrt to the input weights going to hidden node 2 are:', dl_dw_2)\n",
    "print('The gradients of the loss wrt to the input weights going to hidden node 3 are:', dl_dw_3)"
   ]
  },
  {
   "cell_type": "markdown",
   "metadata": {},
   "source": [
    "### Question 2\n",
    "In class we were considering classification problems where the goal was to predict a single discrete label of an input data point. Another common type of machine learning problem is \"regression\", which consists of predicting a continuous value instead of a discrete label. For instance, predicting the temperature tomorrow, given meteorological data, or predicting the time that a software project will take to complete, given its specifications.\n",
    "\n",
    "You will be attempting to predict the median price of homes in a given Boston suburb in the mid-1970s, given a few data points about the suburb at the time, such as the crime rate, the local property tax rate, etc.\n",
    "\n",
    "The dataset you will be using has another interesting difference from our previous examples: it has very few data points, only 506 in total, split between 404 training samples and 102 test samples, and each \"feature\" in the input data (e.g. the crime rate is a feature) has a different scale. For instance some values are proportions, which take a values between 0 and 1, others take values between 1 and 12, others between 0 and 100.\n",
    "\n",
    "The data consists 13 features. The 13 features in the input data are as follows:\n",
    "\n",
    "1. Per capita crime rate.\n",
    "2. Proportion of residential land zoned for lots over 25,000 square feet.\n",
    "3. Proportion of non-retail business acres per town.\n",
    "4. Charles River dummy variable (= 1 if tract bounds river; 0 otherwise).\n",
    "5. Nitric oxides concentration (parts per 10 million).\n",
    "6. Average number of rooms per dwelling.\n",
    "7. Proportion of owner-occupied units built prior to 1940.\n",
    "8. Weighted distances to five Boston employment centres.\n",
    "9. Index of accessibility to radial highways.\n",
    "10. Full-value property-tax rate per $10,000.\n",
    "11. Pupil-teacher ratio by town.\n",
    "12. 1000(Bk - 0.63)^2 where Bk is the proportion of Black people by town.\n",
    "13. % lower SES status of the population.\n",
    "\n",
    "The targets (outcomes, y) are the median values of owner-occupied homes, in thousands of dollars. The prices are typically between 10,000 and 50,000 dollars. If that sounds cheap, remember this was the mid-1970s, and these prices are not inflation-adjusted."
   ]
  },
  {
   "cell_type": "code",
   "execution_count": 4,
   "metadata": {},
   "outputs": [],
   "source": [
    "# Import necessary packages\n",
    "\n",
    "import keras\n",
    "from keras import models\n",
    "from keras import layers\n",
    "import numpy as np"
   ]
  },
  {
   "cell_type": "code",
   "execution_count": 5,
   "metadata": {},
   "outputs": [],
   "source": [
    "# Load the data\n",
    "from keras.datasets import boston_housing\n",
    "\n",
    "(train_data, train_targets), (test_data, test_targets) =  boston_housing.load_data()"
   ]
  },
  {
   "cell_type": "markdown",
   "metadata": {},
   "source": [
    "Print the dimensions of the training set, i.e. its shape"
   ]
  },
  {
   "cell_type": "code",
   "execution_count": 6,
   "metadata": {},
   "outputs": [
    {
     "name": "stdout",
     "output_type": "stream",
     "text": [
      "(404, 13)\n"
     ]
    }
   ],
   "source": [
    "# Training shape\n",
    "print(train_data.shape)"
   ]
  },
  {
   "cell_type": "markdown",
   "metadata": {},
   "source": [
    "Print the dimensions of the test set, i.e. its shape"
   ]
  },
  {
   "cell_type": "code",
   "execution_count": 7,
   "metadata": {},
   "outputs": [
    {
     "name": "stdout",
     "output_type": "stream",
     "text": [
      "(102, 13)\n"
     ]
    }
   ],
   "source": [
    "# test shape\n",
    "print(test_data.shape)"
   ]
  },
  {
   "cell_type": "markdown",
   "metadata": {},
   "source": [
    "It would be problematic to feed into a neural network values that all take wildly different ranges. The network might be able to automatically adapt to such heterogeneous data, but it would definitely make learning more difficult. A widespread best practice to deal with such data is to do feature-wise normalization: for each feature in the input data (a column in the input data matrix), we will subtract the mean of the feature and divide by the standard deviation, so that the feature will be centered around 0 and will have a unit standard deviation.\n",
    "\n",
    "Normalize the data. Be sure to normalize the test set with the training set mean and standard deviation."
   ]
  },
  {
   "cell_type": "code",
   "execution_count": 8,
   "metadata": {},
   "outputs": [],
   "source": [
    "# Normalize the data\n",
    "train_data = train_data.astype('float32')\n",
    "test_data = test_data.astype('float32')\n",
    "\n",
    "mean = train_data.mean(axis=0)\n",
    "train_data -= mean\n",
    "std = train_data.std(axis=0)\n",
    "train_data /= std\n",
    "\n",
    "test_data -= mean\n",
    "test_data /= std"
   ]
  },
  {
   "cell_type": "markdown",
   "metadata": {},
   "source": [
    "Fit a fully connected neural network with 2 hidden layers and an output layer. Include 64 hidden units in each hidden layer and an appropriate number of units in the output layer. You are free to choose the activation functions. Use the `rmsprop` optimization function, and choose an appropriate loss function and model performance measure. Referring to the table shown in lectures 2 and 3 may help with these choices. Run the network for 50 epochs and use a batch_size of 10."
   ]
  },
  {
   "cell_type": "code",
   "execution_count": 9,
   "metadata": {},
   "outputs": [
    {
     "name": "stdout",
     "output_type": "stream",
     "text": [
      "WARNING:tensorflow:From /Users/patrick/anaconda3/lib/python3.7/site-packages/tensorflow/python/framework/op_def_library.py:263: colocate_with (from tensorflow.python.framework.ops) is deprecated and will be removed in a future version.\n",
      "Instructions for updating:\n",
      "Colocations handled automatically by placer.\n",
      "WARNING:tensorflow:From /Users/patrick/anaconda3/lib/python3.7/site-packages/tensorflow/python/ops/math_ops.py:3066: to_int32 (from tensorflow.python.ops.math_ops) is deprecated and will be removed in a future version.\n",
      "Instructions for updating:\n",
      "Use tf.cast instead.\n",
      "Epoch 1/50\n",
      "404/404 [==============================] - 1s 1ms/step - loss: 473.4982 - mean_absolute_error: 19.6768\n",
      "Epoch 2/50\n",
      "404/404 [==============================] - 0s 564us/step - loss: 344.8259 - mean_absolute_error: 16.15380s - loss: 458.7301 - mean_absolute_error: 1\n",
      "Epoch 3/50\n",
      "404/404 [==============================] - 0s 247us/step - loss: 271.9272 - mean_absolute_error: 13.8060\n",
      "Epoch 4/50\n",
      "404/404 [==============================] - 0s 210us/step - loss: 221.4141 - mean_absolute_error: 11.9610\n",
      "Epoch 5/50\n",
      "404/404 [==============================] - 0s 228us/step - loss: 180.9274 - mean_absolute_error: 10.3089\n",
      "Epoch 6/50\n",
      "404/404 [==============================] - 0s 196us/step - loss: 147.9860 - mean_absolute_error: 8.9170\n",
      "Epoch 7/50\n",
      "404/404 [==============================] - 0s 326us/step - loss: 121.9685 - mean_absolute_error: 7.8158\n",
      "Epoch 8/50\n",
      "404/404 [==============================] - 0s 294us/step - loss: 102.2849 - mean_absolute_error: 6.9216\n",
      "Epoch 9/50\n",
      "404/404 [==============================] - 0s 251us/step - loss: 86.6599 - mean_absolute_error: 6.1449\n",
      "Epoch 10/50\n",
      "404/404 [==============================] - 0s 240us/step - loss: 75.8034 - mean_absolute_error: 5.6411\n",
      "Epoch 11/50\n",
      "404/404 [==============================] - 0s 236us/step - loss: 67.7701 - mean_absolute_error: 5.2709\n",
      "Epoch 12/50\n",
      "404/404 [==============================] - 0s 224us/step - loss: 62.0488 - mean_absolute_error: 5.0798\n",
      "Epoch 13/50\n",
      "404/404 [==============================] - 0s 198us/step - loss: 58.3414 - mean_absolute_error: 4.9763\n",
      "Epoch 14/50\n",
      "404/404 [==============================] - 0s 330us/step - loss: 55.7431 - mean_absolute_error: 4.8825\n",
      "Epoch 15/50\n",
      "404/404 [==============================] - 0s 205us/step - loss: 53.5816 - mean_absolute_error: 4.8501\n",
      "Epoch 16/50\n",
      "404/404 [==============================] - 0s 292us/step - loss: 51.4841 - mean_absolute_error: 4.7187\n",
      "Epoch 17/50\n",
      "404/404 [==============================] - 0s 217us/step - loss: 49.4984 - mean_absolute_error: 4.6571\n",
      "Epoch 18/50\n",
      "404/404 [==============================] - 0s 214us/step - loss: 47.7080 - mean_absolute_error: 4.6186\n",
      "Epoch 19/50\n",
      "404/404 [==============================] - 0s 215us/step - loss: 45.8768 - mean_absolute_error: 4.4672\n",
      "Epoch 20/50\n",
      "404/404 [==============================] - 0s 220us/step - loss: 44.1408 - mean_absolute_error: 4.3525\n",
      "Epoch 21/50\n",
      "404/404 [==============================] - 0s 217us/step - loss: 42.4146 - mean_absolute_error: 4.3201\n",
      "Epoch 22/50\n",
      "404/404 [==============================] - 0s 217us/step - loss: 40.4101 - mean_absolute_error: 4.3129\n",
      "Epoch 23/50\n",
      "404/404 [==============================] - 0s 223us/step - loss: 39.5169 - mean_absolute_error: 4.1712\n",
      "Epoch 24/50\n",
      "404/404 [==============================] - 0s 240us/step - loss: 37.9797 - mean_absolute_error: 4.1237\n",
      "Epoch 25/50\n",
      "404/404 [==============================] - 0s 247us/step - loss: 36.8413 - mean_absolute_error: 4.0439\n",
      "Epoch 26/50\n",
      "404/404 [==============================] - 0s 288us/step - loss: 35.7324 - mean_absolute_error: 4.0272\n",
      "Epoch 27/50\n",
      "404/404 [==============================] - 0s 240us/step - loss: 34.7448 - mean_absolute_error: 3.9485\n",
      "Epoch 28/50\n",
      "404/404 [==============================] - 0s 186us/step - loss: 33.7917 - mean_absolute_error: 3.9167\n",
      "Epoch 29/50\n",
      "404/404 [==============================] - 0s 226us/step - loss: 33.0775 - mean_absolute_error: 3.8801\n",
      "Epoch 30/50\n",
      "404/404 [==============================] - 0s 280us/step - loss: 32.1749 - mean_absolute_error: 3.8044\n",
      "Epoch 31/50\n",
      "404/404 [==============================] - 0s 237us/step - loss: 31.2335 - mean_absolute_error: 3.7733\n",
      "Epoch 32/50\n",
      "404/404 [==============================] - 0s 279us/step - loss: 30.6858 - mean_absolute_error: 3.7291\n",
      "Epoch 33/50\n",
      "404/404 [==============================] - 0s 228us/step - loss: 30.0340 - mean_absolute_error: 3.7212\n",
      "Epoch 34/50\n",
      "404/404 [==============================] - 0s 219us/step - loss: 29.4209 - mean_absolute_error: 3.6359\n",
      "Epoch 35/50\n",
      "404/404 [==============================] - 0s 224us/step - loss: 28.8502 - mean_absolute_error: 3.6264\n",
      "Epoch 36/50\n",
      "404/404 [==============================] - 0s 201us/step - loss: 28.1010 - mean_absolute_error: 3.5779\n",
      "Epoch 37/50\n",
      "404/404 [==============================] - 0s 213us/step - loss: 27.6790 - mean_absolute_error: 3.5362\n",
      "Epoch 38/50\n",
      "404/404 [==============================] - 0s 229us/step - loss: 27.1672 - mean_absolute_error: 3.5333\n",
      "Epoch 39/50\n",
      "404/404 [==============================] - 0s 208us/step - loss: 26.6851 - mean_absolute_error: 3.4649\n",
      "Epoch 40/50\n",
      "404/404 [==============================] - 0s 260us/step - loss: 26.1805 - mean_absolute_error: 3.4832\n",
      "Epoch 41/50\n",
      "404/404 [==============================] - 0s 262us/step - loss: 25.4439 - mean_absolute_error: 3.4156\n",
      "Epoch 42/50\n",
      "404/404 [==============================] - 0s 260us/step - loss: 25.0713 - mean_absolute_error: 3.3850\n",
      "Epoch 43/50\n",
      "404/404 [==============================] - 0s 264us/step - loss: 24.7204 - mean_absolute_error: 3.3978\n",
      "Epoch 44/50\n",
      "404/404 [==============================] - 0s 219us/step - loss: 24.1724 - mean_absolute_error: 3.3325\n",
      "Epoch 45/50\n",
      "404/404 [==============================] - 0s 345us/step - loss: 23.7007 - mean_absolute_error: 3.3077\n",
      "Epoch 46/50\n",
      "404/404 [==============================] - 0s 233us/step - loss: 23.1105 - mean_absolute_error: 3.3261\n",
      "Epoch 47/50\n",
      "404/404 [==============================] - 0s 258us/step - loss: 22.8919 - mean_absolute_error: 3.2774\n",
      "Epoch 48/50\n",
      "404/404 [==============================] - 0s 217us/step - loss: 22.2998 - mean_absolute_error: 3.2228\n",
      "Epoch 49/50\n",
      "404/404 [==============================] - 0s 236us/step - loss: 21.8574 - mean_absolute_error: 3.2010\n",
      "Epoch 50/50\n",
      "404/404 [==============================] - 0s 238us/step - loss: 21.3296 - mean_absolute_error: 3.1629\n"
     ]
    },
    {
     "data": {
      "text/plain": [
       "<keras.callbacks.History at 0xb262a3e48>"
      ]
     },
     "execution_count": 9,
     "metadata": {},
     "output_type": "execute_result"
    }
   ],
   "source": [
    "model = models.Sequential()\n",
    "model.add(layers.Dense(64, activation = 'sigmoid', input_shape = (13,)))\n",
    "model.add(layers.Dense(64, activation = 'sigmoid'))\n",
    "model.add(layers.Dense(1))\n",
    "model.compile(loss='mean_squared_error',\n",
    "             optimizer=keras.optimizers.rmsprop(),\n",
    "             metrics=['mae'])\n",
    "\n",
    "model.fit(train_data, train_targets, batch_size = 10, epochs=50)"
   ]
  },
  {
   "cell_type": "markdown",
   "metadata": {},
   "source": [
    "Report the test set accuracy and compare it to the training set accuracy. **Interpret what this means in words, in terms of what you are trying to do with your network**."
   ]
  },
  {
   "cell_type": "code",
   "execution_count": 10,
   "metadata": {},
   "outputs": [
    {
     "name": "stdout",
     "output_type": "stream",
     "text": [
      "102/102 [==============================] - 0s 710us/step\n",
      "3.4146226527644137\n",
      "404/404 [==============================] - 0s 78us/step\n",
      "3.1097183298356463\n"
     ]
    }
   ],
   "source": [
    "# Test Loss versus Training Loss\n",
    "test_loss, test_mae = model.evaluate(test_data, test_targets)\n",
    "print(test_mae)\n",
    "train_loss, train_mae = model.evaluate(train_data, train_targets)\n",
    "print(train_mae)"
   ]
  },
  {
   "cell_type": "markdown",
   "metadata": {},
   "source": [
    "Answer: We see that our mean absolute error for both the training and testing set are quite similar and relatively low, considering we are using this model to predict the median prices of homes (between 10,000 - 50,000 with an MAE around 3.0 or 4.0) in different Boston suburbs during the 1970's.\n",
    "\n"
   ]
  },
  {
   "cell_type": "markdown",
   "metadata": {},
   "source": [
    "Now fit the same network as above but with 16 hidden nodes in each hidden layer. **What is the test set accuracy and how does it compare to the first network you created? Which model do you think is better?**"
   ]
  },
  {
   "cell_type": "code",
   "execution_count": 11,
   "metadata": {},
   "outputs": [
    {
     "name": "stdout",
     "output_type": "stream",
     "text": [
      "Epoch 1/50\n",
      "404/404 [==============================] - 0s 1ms/step - loss: 593.4068 - mean_absolute_error: 22.5481\n",
      "Epoch 2/50\n",
      "404/404 [==============================] - 0s 240us/step - loss: 559.1252 - mean_absolute_error: 21.7889\n",
      "Epoch 3/50\n",
      "404/404 [==============================] - 0s 218us/step - loss: 527.4844 - mean_absolute_error: 21.0631\n",
      "Epoch 4/50\n",
      "404/404 [==============================] - 0s 206us/step - loss: 497.8427 - mean_absolute_error: 20.3703\n",
      "Epoch 5/50\n",
      "404/404 [==============================] - 0s 343us/step - loss: 470.4269 - mean_absolute_error: 19.7078\n",
      "Epoch 6/50\n",
      "404/404 [==============================] - 0s 229us/step - loss: 446.1781 - mean_absolute_error: 19.0776\n",
      "Epoch 7/50\n",
      "404/404 [==============================] - 0s 538us/step - loss: 423.7572 - mean_absolute_error: 18.4760\n",
      "Epoch 8/50\n",
      "404/404 [==============================] - 0s 286us/step - loss: 402.7987 - mean_absolute_error: 17.8958\n",
      "Epoch 9/50\n",
      "404/404 [==============================] - 0s 318us/step - loss: 383.3017 - mean_absolute_error: 17.3284\n",
      "Epoch 10/50\n",
      "404/404 [==============================] - 0s 257us/step - loss: 364.6136 - mean_absolute_error: 16.7750\n",
      "Epoch 11/50\n",
      "404/404 [==============================] - 0s 297us/step - loss: 347.1261 - mean_absolute_error: 16.2311\n",
      "Epoch 12/50\n",
      "404/404 [==============================] - 0s 223us/step - loss: 329.5981 - mean_absolute_error: 15.6911\n",
      "Epoch 13/50\n",
      "404/404 [==============================] - 0s 204us/step - loss: 312.8052 - mean_absolute_error: 15.1489\n",
      "Epoch 14/50\n",
      "404/404 [==============================] - 0s 229us/step - loss: 296.3357 - mean_absolute_error: 14.6006\n",
      "Epoch 15/50\n",
      "404/404 [==============================] - 0s 247us/step - loss: 279.7903 - mean_absolute_error: 14.0421\n",
      "Epoch 16/50\n",
      "404/404 [==============================] - 0s 218us/step - loss: 263.1539 - mean_absolute_error: 13.4680\n",
      "Epoch 17/50\n",
      "404/404 [==============================] - 0s 411us/step - loss: 246.7766 - mean_absolute_error: 12.8932\n",
      "Epoch 18/50\n",
      "404/404 [==============================] - 0s 342us/step - loss: 230.4951 - mean_absolute_error: 12.2935\n",
      "Epoch 19/50\n",
      "404/404 [==============================] - 0s 307us/step - loss: 214.7592 - mean_absolute_error: 11.6935\n",
      "Epoch 20/50\n",
      "404/404 [==============================] - 0s 303us/step - loss: 199.4780 - mean_absolute_error: 11.0878\n",
      "Epoch 21/50\n",
      "404/404 [==============================] - 0s 252us/step - loss: 184.9997 - mean_absolute_error: 10.5175\n",
      "Epoch 22/50\n",
      "404/404 [==============================] - 0s 221us/step - loss: 171.2294 - mean_absolute_error: 9.9378\n",
      "Epoch 23/50\n",
      "404/404 [==============================] - 0s 232us/step - loss: 158.1140 - mean_absolute_error: 9.3753\n",
      "Epoch 24/50\n",
      "404/404 [==============================] - 0s 238us/step - loss: 146.5239 - mean_absolute_error: 8.8768\n",
      "Epoch 25/50\n",
      "404/404 [==============================] - 0s 282us/step - loss: 135.5451 - mean_absolute_error: 8.4059\n",
      "Epoch 26/50\n",
      "404/404 [==============================] - 0s 271us/step - loss: 125.4584 - mean_absolute_error: 7.9799\n",
      "Epoch 27/50\n",
      "404/404 [==============================] - 0s 267us/step - loss: 116.7255 - mean_absolute_error: 7.5810\n",
      "Epoch 28/50\n",
      "404/404 [==============================] - 0s 234us/step - loss: 108.4108 - mean_absolute_error: 7.1997\n",
      "Epoch 29/50\n",
      "404/404 [==============================] - 0s 322us/step - loss: 101.1775 - mean_absolute_error: 6.8581\n",
      "Epoch 30/50\n",
      "404/404 [==============================] - 0s 292us/step - loss: 95.0901 - mean_absolute_error: 6.5629\n",
      "Epoch 31/50\n",
      "404/404 [==============================] - 0s 296us/step - loss: 89.9599 - mean_absolute_error: 6.3054\n",
      "Epoch 32/50\n",
      "404/404 [==============================] - 0s 268us/step - loss: 85.2186 - mean_absolute_error: 6.0804\n",
      "Epoch 33/50\n",
      "404/404 [==============================] - 0s 329us/step - loss: 80.7403 - mean_absolute_error: 5.8826\n",
      "Epoch 34/50\n",
      "404/404 [==============================] - 0s 282us/step - loss: 76.9603 - mean_absolute_error: 5.7364\n",
      "Epoch 35/50\n",
      "404/404 [==============================] - 0s 237us/step - loss: 73.5867 - mean_absolute_error: 5.5896\n",
      "Epoch 36/50\n",
      "404/404 [==============================] - 0s 254us/step - loss: 70.5453 - mean_absolute_error: 5.4740\n",
      "Epoch 37/50\n",
      "404/404 [==============================] - 0s 244us/step - loss: 67.9821 - mean_absolute_error: 5.3739\n",
      "Epoch 38/50\n",
      "404/404 [==============================] - 0s 232us/step - loss: 65.9638 - mean_absolute_error: 5.3060\n",
      "Epoch 39/50\n",
      "404/404 [==============================] - 0s 246us/step - loss: 64.1058 - mean_absolute_error: 5.2132\n",
      "Epoch 40/50\n",
      "404/404 [==============================] - 0s 245us/step - loss: 62.3986 - mean_absolute_error: 5.1688\n",
      "Epoch 41/50\n",
      "404/404 [==============================] - 0s 221us/step - loss: 60.9159 - mean_absolute_error: 5.1316\n",
      "Epoch 42/50\n",
      "404/404 [==============================] - 0s 264us/step - loss: 59.5126 - mean_absolute_error: 5.0796\n",
      "Epoch 43/50\n",
      "404/404 [==============================] - 0s 225us/step - loss: 58.1108 - mean_absolute_error: 5.0479\n",
      "Epoch 44/50\n",
      "404/404 [==============================] - 0s 213us/step - loss: 56.9115 - mean_absolute_error: 4.9785\n",
      "Epoch 45/50\n",
      "404/404 [==============================] - 0s 234us/step - loss: 55.8582 - mean_absolute_error: 4.9493\n",
      "Epoch 46/50\n",
      "404/404 [==============================] - 0s 274us/step - loss: 54.7789 - mean_absolute_error: 4.8935\n",
      "Epoch 47/50\n",
      "404/404 [==============================] - 0s 251us/step - loss: 53.7014 - mean_absolute_error: 4.8741\n",
      "Epoch 48/50\n",
      "404/404 [==============================] - 0s 226us/step - loss: 52.7565 - mean_absolute_error: 4.8154\n",
      "Epoch 49/50\n",
      "404/404 [==============================] - 0s 230us/step - loss: 51.8565 - mean_absolute_error: 4.7894\n",
      "Epoch 50/50\n",
      "404/404 [==============================] - 0s 221us/step - loss: 50.8961 - mean_absolute_error: 4.7529\n",
      "102/102 [==============================] - 0s 639us/step\n",
      "4.757518160576914\n",
      "404/404 [==============================] - 0s 31us/step\n",
      "4.727914040631587\n"
     ]
    }
   ],
   "source": [
    "# Model with 16 hidden nodes in each hidden layer\n",
    "\n",
    "model = models.Sequential()\n",
    "model.add(layers.Dense(16, activation = 'sigmoid', input_shape = (13,)))\n",
    "model.add(layers.Dense(16, activation = 'sigmoid'))\n",
    "model.add(layers.Dense(1))\n",
    "model.compile(loss='mean_squared_error',\n",
    "             optimizer=keras.optimizers.rmsprop(),\n",
    "             metrics=['mae'])\n",
    "\n",
    "model.fit(train_data, train_targets, batch_size = 10, epochs=50)\n",
    "\n",
    "test_loss, test_mae = model.evaluate(test_data, test_targets)\n",
    "print(test_mae)\n",
    "train_loss, train_mae = model.evaluate(train_data, train_targets)\n",
    "print(train_mae)"
   ]
  },
  {
   "cell_type": "markdown",
   "metadata": {},
   "source": [
    "Answer: We now have the mean absolute error increase for both the training and testing datasets to a value around 5.0 or 6.0, which is an increase from the approximate 3.0/4.0 for the model with 64 hidden nodes in each hidden layer. Using this metric we can conclude that the previous model with the 64 nodes per hidden layer is a better fit to the data and performs better on a test set and is therefore a better model at predicting Boston median housing prices during the 1970's.\n",
    "\n"
   ]
  }
 ],
 "metadata": {
  "kernelspec": {
   "display_name": "Python 3",
   "language": "python",
   "name": "python3"
  },
  "language_info": {
   "codemirror_mode": {
    "name": "ipython",
    "version": 3
   },
   "file_extension": ".py",
   "mimetype": "text/x-python",
   "name": "python",
   "nbconvert_exporter": "python",
   "pygments_lexer": "ipython3",
   "version": "3.7.1"
  }
 },
 "nbformat": 4,
 "nbformat_minor": 2
}
